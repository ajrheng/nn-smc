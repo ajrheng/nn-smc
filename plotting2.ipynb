{
 "cells": [
  {
   "cell_type": "code",
   "execution_count": 25,
   "id": "54d1da4e",
   "metadata": {},
   "outputs": [],
   "source": [
    "import numpy as np\n",
    "import matplotlib.pyplot as plt\n",
    "import pickle\n",
    "# import seaborn as sns\n",
    "# sns.set()\n",
    "# sns.set_context(\"paper\")\n",
    "\n",
    "plt.rc('text', usetex=True)\n",
    "plt.rc('font', family='serif')"
   ]
  },
  {
   "cell_type": "code",
   "execution_count": 26,
   "id": "330f358b",
   "metadata": {},
   "outputs": [],
   "source": [
    "with open('./files/e_500_250_50.pkl', 'rb') as f:\n",
    "    nn_errors_list = pickle.load(f)\n",
    "    \n",
    "with open('./files/t_500_250_50.pkl', 'rb') as f:\n",
    "    nn_times_list = pickle.load(f)\n",
    "    \n",
    "with open('./files/e.pkl', 'rb') as f:\n",
    "    lw_errors_list = pickle.load(f)\n",
    "    \n",
    "with open('./files/t.pkl', 'rb') as f:\n",
    "    lw_times_list = pickle.load(f)\n"
   ]
  },
  {
   "cell_type": "code",
   "execution_count": 27,
   "id": "9ffe7f93",
   "metadata": {},
   "outputs": [],
   "source": [
    "class ErrorNotInRange(Exception):\n",
    "    pass"
   ]
  },
  {
   "cell_type": "code",
   "execution_count": 28,
   "id": "71a08024",
   "metadata": {},
   "outputs": [],
   "source": [
    "from scipy import interpolate\n",
    "\n",
    "def is_between(x1, x2, y):\n",
    "    \"\"\"\n",
    "    checks if y is between x1 and x2\n",
    "    \"\"\"\n",
    "    \n",
    "    if (y > x1 and y < x2) or (y>x2 and y<x1):\n",
    "        return True\n",
    "    else:\n",
    "        return False\n",
    "\n",
    "def get_error_times(errors_list, cum_time_list, error):\n",
    "    \n",
    "    for i in range(len(errors_list)):\n",
    "        \n",
    "        if i != len(errors_list) and i%99!=0 and i!=0:\n",
    "            first = errors_list[i]\n",
    "            second = errors_list[i+1]\n",
    "            \n",
    "            if is_between(first, second, error):\n",
    "                return (first, second, cum_time_list[i], cum_time_list[i+1])\n",
    "\n",
    "    raise ErrorNotInRange(\"error is not in the range\")\n",
    "            \n",
    "def interpolate_error_times(error1, error2, time1, time2, error):\n",
    "    \n",
    "    # let t be y, errors be x\n",
    "    \n",
    "#     x = [error1, error2]\n",
    "#     y = [time1, time2]\n",
    "#     f = interpolate.interp1d(x, y)\n",
    "#     time_interpolated_scipy = f(error)\n",
    "\n",
    "    gradient = (time2 - time1) / (error2 - error1)\n",
    "    y_intercept = time1 - gradient*error1\n",
    "    time_interpolated = gradient*error + y_intercept\n",
    "\n",
    "    return time_interpolated"
   ]
  },
  {
   "cell_type": "code",
   "execution_count": 29,
   "id": "2d42ddbb",
   "metadata": {},
   "outputs": [
    {
     "name": "stderr",
     "output_type": "stream",
     "text": [
      "100%|██████████| 1000/1000 [01:55<00:00,  8.70it/s]\n"
     ]
    }
   ],
   "source": [
    "from tqdm import tqdm\n",
    "\n",
    "num = 100\n",
    "\n",
    "error_range = np.logspace(0, -11, num=num)\n",
    "total_times_nn = []\n",
    "total_times_lw = []\n",
    "\n",
    "for i in tqdm(range(len(nn_errors_list))):\n",
    "    \n",
    "    nn_error_list_curr = nn_errors_list[i]\n",
    "    nn_time_list_curr = np.cumsum(nn_times_list[i])\n",
    "    lw_error_list_curr = lw_errors_list[i]\n",
    "    lw_time_list_curr = np.cumsum(lw_times_list[i])\n",
    "    extrap_time_nn = []\n",
    "    extrap_time_lw = []\n",
    "    \n",
    "    for error in error_range:\n",
    "        \n",
    "        try:\n",
    "            e1, e2, t1, t2 = get_error_times(nn_error_list_curr,nn_time_list_curr, error)\n",
    "            time_interpolated = interpolate_error_times(e1, e2, t1, t2, error)\n",
    "            extrap_time_nn.append(time_interpolated)\n",
    "            \n",
    "        except:\n",
    "            continue\n",
    "        \n",
    "        \n",
    "    for error in error_range:\n",
    "        \n",
    "        try:\n",
    "            e1, e2, t1, t2 = get_error_times(lw_error_list_curr,lw_time_list_curr, error)\n",
    "            time_interpolated = interpolate_error_times(e1, e2, t1, t2, error)\n",
    "            extrap_time_lw.append(time_interpolated)\n",
    "            \n",
    "        except:\n",
    "            continue\n",
    "    \n",
    "    total_times_nn.append(extrap_time_nn)\n",
    "    total_times_lw.append(extrap_time_lw)"
   ]
  },
  {
   "cell_type": "code",
   "execution_count": 30,
   "id": "d3933913",
   "metadata": {},
   "outputs": [],
   "source": [
    "tot = 500\n",
    "nn_accepted = []\n",
    "lw_accepted = []\n",
    "\n",
    "for i in total_times_nn:\n",
    "    if len(i) == num:\n",
    "        nn_accepted.append(i)\n",
    "    if len(nn_accepted) == tot:\n",
    "        break\n",
    "        \n",
    "for i in total_times_lw:\n",
    "    if len(i) == num:\n",
    "        lw_accepted.append(i)\n",
    "    if len(lw_accepted) == tot:\n",
    "        break"
   ]
  },
  {
   "cell_type": "code",
   "execution_count": 31,
   "id": "0b6b4614",
   "metadata": {},
   "outputs": [],
   "source": [
    "nn_accepted = np.mean(nn_accepted, axis=0)\n",
    "lw_accepted = np.mean(lw_accepted, axis=0)"
   ]
  },
  {
   "cell_type": "code",
   "execution_count": 32,
   "id": "6ca5c957",
   "metadata": {},
   "outputs": [
    {
     "name": "stdout",
     "output_type": "stream",
     "text": [
      "(100,)\n",
      "(100,)\n"
     ]
    }
   ],
   "source": [
    "print(nn_accepted.shape)\n",
    "print(lw_accepted.shape)"
   ]
  },
  {
   "cell_type": "code",
   "execution_count": 41,
   "id": "5b3f6518",
   "metadata": {},
   "outputs": [
    {
     "data": {
      "image/png": "[encoded data removed]",
      "text/plain": [
       "<Figure size 432x288 with 1 Axes>"
      ]
     },
     "metadata": {
      "needs_background": "light"
     },
     "output_type": "display_data"
    }
   ],
   "source": [
    "# t_limit = np.pi * 1/np.sqrt(error_range)\n",
    "# plt.plot(error_range, t_limit)\n",
    "plt.plot(error_range, nn_accepted, label='NN')\n",
    "plt.plot(error_range, lw_accepted, label='LW')\n",
    "plt.xscale('log')\n",
    "plt.yscale('log')\n",
    "plt.ylabel('TIME')\n",
    "plt.xlabel('ERROR')\n",
    "plt.legend()\n",
    "plt.gca().invert_xaxis()\n",
    "plt.show()"
   ]
  }
 ],
 "metadata": {
  "kernelspec": {
   "display_name": "Python 3.9.4 64-bit ('masters': conda)",
   "language": "python",
   "name": "python394jvsc74a57bd0236b0cd5804efa03d4e44f50e8e15f1f386ae0d5251fd2f8158f76311c2506d9"
  },
  "language_info": {
   "codemirror_mode": {
    "name": "ipython",
    "version": 3
   },
   "file_extension": ".py",
   "mimetype": "text/x-python",
   "name": "python",
   "nbconvert_exporter": "python",
   "pygments_lexer": "ipython3",
   "version": "3.9.4"
  }
 },
 "nbformat": 4,
 "nbformat_minor": 5
}
